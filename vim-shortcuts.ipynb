{
 "cells": [
  {
   "cell_type": "markdown",
   "id": "d7d784ca-ad21-4b03-8bd8-4b4e9c5d494d",
   "metadata": {},
   "source": [
    "Open vim file\n",
    "\n",
    "```\n",
    "v1 abc.py\n",
    "```\n",
    "\n",
    "Getting out of vim\n",
    "\n",
    "`esc` + `:q` + `enter`"
   ]
  },
  {
   "cell_type": "markdown",
   "id": "99bb55e9-4439-4032-ab65-cb675105afca",
   "metadata": {},
   "source": [
    "Quit but dismiss anychange that I make\n",
    "`:q!`\n",
    "\n",
    "- `!` invokes the terminal, anything after the ! is executed as a terminal command\n",
    "- `:` is to execute command in normal mode\n",
    "- `i` insert mode, inserting before the cursor\n",
    "- `I` insert at the start of the current line\n",
    "- `shift + i` enter insert mode at the begining of the line\n",
    "- `a` for inserting after cursor\n",
    "- `A` Append to the end of current line\n",
    "- `shift + a` enter insert mode at the end of the line\n",
    "- `d` delete mode\n",
    "- `w` write\n",
    "- `wq` write and quit\n",
    "- `o` create new line below cursor and enter insert mode\n",
    "- `shift o` creates new line above cursor and enter insert mode\n",
    "- `enter` end of the line"
   ]
  },
  {
   "cell_type": "markdown",
   "id": "53418140-e2af-44ab-948a-74cb480adba5",
   "metadata": {},
   "source": [
    "- `: set number` want to add line number in vim\n",
    "- `5` $\\downarrow$ move 5 rows down\n",
    "- `7` $\\uparrow$ moves 7 lines up\n",
    "- `15` $\\rightarrow$ jumps 15 columns right\n",
    "\n",
    "- `hjkl` keys replace the arrow keys\n",
    "- `k` = $\\leftarrow$\n",
    "- `j` = $\\downarrow$\n",
    "- `h` = $\\uparrow$\n",
    "- `l` = $\\rightarrow$\n",
    "- `4k` = 4$\\leftarrow$\n",
    "- `4j` = 4$\\downarrow$\n",
    "- `4h` = 4$\\uparrow$\n",
    "- `4l` = 4$\\rightarrow$\n",
    "- `w` jump to the beggining of the next word\n",
    "- `e` jumps to the end of a word\n",
    "- `b` jumb backward a word\n",
    "- `0` jumps to beginning of a line\n",
    "- `$` goes to end of a line\n",
    "- `dw` deletes a word\n",
    "- `2dw` deletes 2cwords\n",
    "- `db` deletes a word backward\n",
    "- `diw` delete in a word\n",
    "- `c` change (delete and enter insert mode)\n",
    "- `ciw` change in a word\n",
    "- `ci\"` change inside quotation mark\n",
    "- `di\"` delete inside quotation mark\n",
    "- `d0` deletes everything from the cursor to the begining of the line\n",
    "- `d$` deletes everything from the cursor to the end of the line\n",
    "- `.` repeat last vim command\n",
    "\n",
    "- `: set relativenumber` relative number line\n",
    "- `: set mouse=a` to be able to use mouse\n",
    "- `: set tabstop=4`\n",
    "- `: set shiftwidth=4`\n",
    "- `: set colourscheme=< >` \n",
    "\n",
    "settings are gone after you open and close vim"
   ]
  },
  {
   "cell_type": "markdown",
   "id": "60131b11-3e5b-40df-a040-b3d5343b6fe7",
   "metadata": {},
   "source": [
    "persist settings with vimrc\n",
    "\n",
    "`vim ~/.vimrc`"
   ]
  },
  {
   "cell_type": "raw",
   "id": "fc12b4e4-191a-4157-8f9e-2d561967eef3",
   "metadata": {},
   "source": [
    "~/.vimrc\n",
    "\n",
    "set number\n",
    "set relativenumber\n",
    "set tabstop=4\n",
    "set shiftwidth=4\n",
    "set autoindent\n",
    "set mouse=a\n",
    "colorsheme slate"
   ]
  },
  {
   "cell_type": "markdown",
   "id": "02bb43e6-9774-4e67-b261-59980585866b",
   "metadata": {},
   "source": [
    "- `u` undo\n",
    "- `3u` 3 undos\n",
    "- `ctrl r` redo\n",
    "- `3 ctrl r` 3 redos"
   ]
  },
  {
   "cell_type": "markdown",
   "id": "274988ab-d21c-4ee6-a0f0-e5495a05f365",
   "metadata": {},
   "source": [
    "- `v` enter into visual mode\n",
    "- `y` is key for yanking, yanking means copy\n",
    "- `yy` yank the whole line\n",
    "- `cc` enters insert mode but doesn't delete the full line\n",
    "- `p` is for pasting\n",
    "- `d` is for delete\n",
    "- `dd` is for deleting line\n",
    "- `D` deletes line after cursor\n",
    "- `r` replace"
   ]
  },
  {
   "cell_type": "markdown",
   "id": "c8da0695-a1b6-4e78-99f4-40d73d83b16d",
   "metadata": {},
   "source": [
    "- `%` jump to closing bracket\n",
    "\n",
    "- `gg` jumps to the begining of the file\n",
    "- `G` jumps to the end of the file\n",
    "- `<linenumber>G` jumps to the specific line number\n",
    "- `0` go the start of the line\n",
    "- `$` go to end of the line\n",
    "- `^` or `0w` go to the first non-whitespace character of the line\n",
    "\n",
    "- `>>` indentation, shift line to right\n",
    "- `<<` shift line to the left\n",
    "- `zz` center current line"
   ]
  },
  {
   "cell_type": "markdown",
   "id": "569fc3d2-a82c-4300-9ddc-cc95f4bb888e",
   "metadata": {},
   "source": [
    "- `V` visual line mode\n",
    "\n",
    "- `:%s/<string to replace>/<replacement string>/gd` find and replace"
   ]
  },
  {
   "cell_type": "markdown",
   "id": "0d6199a5-20f1-4616-96e2-59e75f1a6f94",
   "metadata": {},
   "source": [
    "vim register helps you deal with clipboard\n"
   ]
  },
  {
   "cell_type": "markdown",
   "id": "13407243-0d63-46ad-b465-9c0a99773f2f",
   "metadata": {},
   "source": [
    "- `ctrl + u` scroll up\n",
    "- `ctrl + d` scroll down\n",
    "- `{` move to next paragraph/code block\n",
    "- `}` move to previous paragraph/code block\n",
    "- `H` move to the highest point in the viewport\n",
    "- `M` move to the middle of the viewport\n",
    "- `L` move to the lowest point  in the viewport"
   ]
  },
  {
   "cell_type": "markdown",
   "id": "867803e3-ff9f-4db5-a364-4f90db5ca22f",
   "metadata": {},
   "source": [
    "# Searching\n",
    "- `t<symbol>` get the the position before the specified symbol\n",
    "- `dt<symbol>` deletes everything before the specified symbol\n",
    "- `f<symbol>` jump to the position of the specified symbol\n",
    "- `F<symbol>` jumps to to the position of the previous occurance of the specified symbol\n",
    "- `/<searchterm>` start looking for your search term, pressing enter will take you to the first occurence of the search term\n",
    "- `?<searchterm>` start looking backwards for your search term\n",
    "- `n` jump to the next occurrence\n",
    "- `N` jump to the previous occurrence\n",
    "- `:noh` turn off search highlighting until next search"
   ]
  },
  {
   "cell_type": "markdown",
   "id": "d35429c3-89c6-4cd9-9199-68ee79bbce43",
   "metadata": {},
   "source": [
    "## Noun Objects\n",
    "### text obejects \n",
    "text objects allows you to operate anywhere within a defined body of text\n",
    "- `iw` inner word (works from anywhere in a word)\n",
    "- `it` inner tag (the contents of an HTML tag)\n",
    "- `i\"` inner quotes\n",
    "- `ip` inner paragraph\n",
    "- `as` a sentense\n",
    "\n",
    "### parameterized text objects\n",
    "- `f`, `F` find the next character\n",
    "- `t`, `T` find the next character\n",
    "- `/` Search (up to the next match"
   ]
  },
  {
   "cell_type": "code",
   "execution_count": null,
   "id": "a932fdc3-290d-4df2-aaf0-40089c4968ae",
   "metadata": {},
   "outputs": [],
   "source": []
  }
 ],
 "metadata": {
  "kernelspec": {
   "display_name": "Python 3",
   "language": "python",
   "name": "python3"
  },
  "language_info": {
   "codemirror_mode": {
    "name": "ipython",
    "version": 3
   },
   "file_extension": ".py",
   "mimetype": "text/x-python",
   "name": "python",
   "nbconvert_exporter": "python",
   "pygments_lexer": "ipython3",
   "version": "3.6.9"
  }
 },
 "nbformat": 4,
 "nbformat_minor": 5
}
