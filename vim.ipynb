{
 "cells": [
  {
   "cell_type": "markdown",
   "id": "6b30e978-6df3-4355-bdc2-1d477ebb43d5",
   "metadata": {},
   "source": [
    "Installing vim \n",
    "\n",
    "on linux\n",
    "\n",
    "`sudo apt install neovim`\n",
    "\n",
    "on mac"
   ]
  },
  {
   "cell_type": "code",
   "execution_count": null,
   "id": "ab8f5a8c-47d1-4a59-af8f-62f6a5643561",
   "metadata": {},
   "outputs": [],
   "source": [
    "! brew install neovim"
   ]
  },
  {
   "cell_type": "markdown",
   "id": "7b4097e9-5770-4b7b-a7f5-cea40e65cb09",
   "metadata": {},
   "source": [
    "https://github.com/junegunn/vim-plug"
   ]
  },
  {
   "cell_type": "code",
   "execution_count": 2,
   "id": "4810cff1-a3ea-4338-aa1d-36753a7a1073",
   "metadata": {},
   "outputs": [
    {
     "name": "stdout",
     "output_type": "stream",
     "text": [
      "  % Total    % Received % Xferd  Average Speed   Time    Time     Time  Current\n",
      "                                 Dload  Upload   Total   Spent    Left  Speed\n",
      "100 83127  100 83127    0     0   238k      0 --:--:-- --:--:-- --:--:--  238k\n"
     ]
    }
   ],
   "source": [
    "! sh -c 'curl -fLo \"${XDG_DATA_HOME:-$HOME/.local/share}\"/nvim/site/autoload/plug.vim --create-dirs \\\n",
    "       https://raw.githubusercontent.com/junegunn/vim-plug/master/plug.vim'"
   ]
  },
  {
   "cell_type": "code",
   "execution_count": null,
   "id": "ee342ca2-6b9a-41be-9d1e-e48790fc7d40",
   "metadata": {},
   "outputs": [],
   "source": []
  }
 ],
 "metadata": {
  "kernelspec": {
   "display_name": "Python 3 (ipykernel)",
   "language": "python",
   "name": "python3"
  },
  "language_info": {
   "codemirror_mode": {
    "name": "ipython",
    "version": 3
   },
   "file_extension": ".py",
   "mimetype": "text/x-python",
   "name": "python",
   "nbconvert_exporter": "python",
   "pygments_lexer": "ipython3",
   "version": "3.9.12"
  }
 },
 "nbformat": 4,
 "nbformat_minor": 5
}
